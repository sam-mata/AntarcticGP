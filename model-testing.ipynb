{
 "cells": [
  {
   "cell_type": "markdown",
   "metadata": {},
   "source": [
    "# Model Testing\n"
   ]
  },
  {
   "cell_type": "markdown",
   "metadata": {},
   "source": [
    "## Setup\n"
   ]
  },
  {
   "cell_type": "code",
   "execution_count": 1,
   "metadata": {},
   "outputs": [],
   "source": [
    "from scripts.data_loader import load_data, split_features_targets\n",
    "from scripts.preprocessing import preprocess_data, derive_features\n",
    "from scripts.model_testing import test_independant_models, find_top_models, train_and_predict, test_dependent_models, split_data_by_year\n",
    "\n",
    "from sklearn.ensemble import (\n",
    "    RandomForestRegressor,\n",
    "    GradientBoostingRegressor,\n",
    "    ExtraTreesRegressor,\n",
    ")\n",
    "from sklearn.ensemble import BaggingRegressor\n",
    "from xgboost import XGBRegressor\n",
    "from lightgbm import LGBMRegressor"
   ]
  },
  {
   "cell_type": "code",
   "execution_count": 2,
   "metadata": {},
   "outputs": [],
   "source": [
    "df = load_data(\"data\")\n",
    "df = preprocess_data(df)\n",
    "df = derive_features(df)\n",
    "\n",
    "features, targets = split_features_targets(df)"
   ]
  },
  {
   "cell_type": "markdown",
   "metadata": {},
   "source": [
    "# Target-Independant Testing\n"
   ]
  },
  {
   "cell_type": "markdown",
   "metadata": {},
   "source": [
    "### Models\n"
   ]
  },
  {
   "cell_type": "code",
   "execution_count": null,
   "metadata": {},
   "outputs": [],
   "source": [
    "models = [\n",
    "    RandomForestRegressor(n_estimators=100, max_depth=10, n_jobs=-1),\n",
    "    GradientBoostingRegressor(n_estimators=100, max_depth=5, learning_rate=0.1),\n",
    "    ExtraTreesRegressor(n_estimators=100, max_depth=10, n_jobs=-1),\n",
    "    BaggingRegressor(n_estimators=10, max_samples=0.5, n_jobs=-1),\n",
    "    XGBRegressor(n_estimators=100, max_depth=5, learning_rate=0.1, n_jobs=-1),\n",
    "    LGBMRegressor(\n",
    "        n_estimators=100, max_depth=5, learning_rate=0.1, n_jobs=-1, verbose=-1\n",
    "    ),\n",
    "]"
   ]
  },
  {
   "cell_type": "markdown",
   "metadata": {},
   "source": [
    "### Results\n"
   ]
  },
  {
   "cell_type": "code",
   "execution_count": null,
   "metadata": {},
   "outputs": [],
   "source": [
    "# Ice Thickness\n",
    "find_top_models(test_independant_models(models, features, targets[\"ice_thickness\"])).head()"
   ]
  },
  {
   "cell_type": "code",
   "execution_count": null,
   "metadata": {},
   "outputs": [],
   "source": [
    "# Ice Velocity\n",
    "find_top_models(test_independant_models(models, features, targets[\"ice_velocity\"])).head()"
   ]
  },
  {
   "cell_type": "code",
   "execution_count": null,
   "metadata": {},
   "outputs": [],
   "source": [
    "# Ice Mask\n",
    "find_top_models(test_independant_models(models, features, targets[\"ice_mask\"])).head()"
   ]
  },
  {
   "cell_type": "markdown",
   "metadata": {},
   "source": [
    "## Further Testing\n"
   ]
  },
  {
   "cell_type": "markdown",
   "metadata": {},
   "source": [
    "### Models\n"
   ]
  },
  {
   "cell_type": "code",
   "execution_count": null,
   "metadata": {},
   "outputs": [],
   "source": [
    "MAX_DEPTH = 60\n",
    "N_ESTIMATORS = 160\n",
    "N_JOBS = -1\n",
    "\n",
    "models = [\n",
    "    RandomForestRegressor(n_estimators=N_ESTIMATORS, max_depth=MAX_DEPTH, n_jobs=N_JOBS),\n",
    "    GradientBoostingRegressor(n_estimators=N_ESTIMATORS, max_depth=MAX_DEPTH, learning_rate=0.1),\n",
    "    ExtraTreesRegressor(n_estimators=N_ESTIMATORS, max_depth=MAX_DEPTH, n_jobs=N_JOBS),\n",
    "    BaggingRegressor(n_estimators=N_ESTIMATORS, max_samples=0.5, n_jobs=N_JOBS),\n",
    "    XGBRegressor(n_estimators=N_ESTIMATORS, max_depth=MAX_DEPTH, learning_rate=0.1, n_jobs=N_JOBS),\n",
    "    LGBMRegressor(\n",
    "        n_estimators=N_ESTIMATORS, max_depth=MAX_DEPTH, learning_rate=0.1, n_jobs=N_JOBS, verbose=-1\n",
    "    ),\n",
    "]"
   ]
  },
  {
   "cell_type": "markdown",
   "metadata": {},
   "source": [
    "### Results\n"
   ]
  },
  {
   "cell_type": "code",
   "execution_count": null,
   "metadata": {},
   "outputs": [],
   "source": [
    "results = test_independant_models(models, features, targets[\"ice_velocity\"], split_year=2085)\n",
    "results.head(6)"
   ]
  },
  {
   "cell_type": "markdown",
   "metadata": {},
   "source": [
    "# Target-Dependant Testing\n"
   ]
  },
  {
   "cell_type": "markdown",
   "metadata": {},
   "source": [
    "## Initial Testing\n"
   ]
  },
  {
   "cell_type": "code",
   "execution_count": 4,
   "metadata": {},
   "outputs": [
    {
     "name": "stdout",
     "output_type": "stream",
     "text": [
      "                      MSE       MAE        R2\n",
      "ice_thickness    0.001117  0.011774  0.982508\n",
      "ice_mask         0.017728  0.019543  0.981190\n",
      "ice_velocity   564.818300  5.254401  0.432202\n"
     ]
    }
   ],
   "source": [
    "import time\n",
    "\n",
    "thickness_model = BaggingRegressor(n_estimators=10, max_samples=0.5, n_jobs=-1)\n",
    "mask_model = BaggingRegressor(n_estimators=10, max_samples=0.5, n_jobs=-1)\n",
    "velocity_model = ExtraTreesRegressor(n_estimators=100, max_depth=10, n_jobs=-1)\n",
    "\n",
    "models = [thickness_model, mask_model, velocity_model]\n",
    "\n",
    "start_time = time.time()\n",
    "results = test_dependent_models(models, features, targets, target_order=['ice_thickness', 'ice_mask', 'ice_velocity'], split_year=2050)\n",
    "end_time = time.time()\n",
    "\n",
    "print(f\"Total execution time: {end_time - start_time:.2f} seconds\")\n",
    "print(results)"
   ]
  },
  {
   "cell_type": "markdown",
   "metadata": {},
   "source": [
    "## Order Testing\n"
   ]
  },
  {
   "cell_type": "code",
   "execution_count": null,
   "metadata": {},
   "outputs": [],
   "source": [
    "order1 = ['ice_thickness', 'ice_mask', 'ice_velocity']\n",
    "order2 = ['ice_mask', 'ice_thickness', 'ice_velocity']\n",
    "order3 = ['ice_velocity', 'ice_thickness', 'ice_mask']\n",
    "\n",
    "# Test the dependent models with different orderings\n",
    "results1 = test_dependent_models([thickness_model, mask_model, velocity_model], features, targets, order1, split_year=2050)\n",
    "print(\"Order 1 results:\")\n",
    "print(results1)\n",
    "\n",
    "results2 = test_dependent_models([thickness_model, mask_model, velocity_model], features, targets, order2, split_year=2050)\n",
    "print(\"\\nOrder 2 results:\")\n",
    "print(results2)\n",
    "\n",
    "results3 = test_dependent_models([thickness_model, mask_model, velocity_model], features, targets, order3, split_year=2050)\n",
    "print(\"\\nOrder 3 results:\")\n",
    "print(results3)"
   ]
  },
  {
   "cell_type": "markdown",
   "metadata": {},
   "source": [
    "## Further Testing\n"
   ]
  },
  {
   "cell_type": "code",
   "execution_count": null,
   "metadata": {},
   "outputs": [],
   "source": []
  }
 ],
 "metadata": {
  "kernelspec": {
   "display_name": "Python 3",
   "language": "python",
   "name": "python3"
  },
  "language_info": {
   "codemirror_mode": {
    "name": "ipython",
    "version": 3
   },
   "file_extension": ".py",
   "mimetype": "text/x-python",
   "name": "python",
   "nbconvert_exporter": "python",
   "pygments_lexer": "ipython3",
   "version": "3.12.4"
  }
 },
 "nbformat": 4,
 "nbformat_minor": 2
}
