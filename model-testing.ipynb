{
 "cells": [
  {
   "cell_type": "markdown",
   "metadata": {},
   "source": [
    "# Model Testing\n"
   ]
  },
  {
   "cell_type": "markdown",
   "metadata": {},
   "source": [
    "## Setup\n"
   ]
  },
  {
   "cell_type": "code",
   "execution_count": null,
   "metadata": {},
   "outputs": [],
   "source": [
    "from scripts.data_loader import load_data, split_features_targets\n",
    "from scripts.preprocessing import preprocess_data, create_features\n",
    "from scripts.model_testing import test_independant_models, find_top_models\n",
    "import pandas as pd\n",
    "import random\n",
    "from sklearn.model_selection import train_test_split\n",
    "from sklearn.metrics import mean_squared_error, mean_absolute_error, r2_score\n",
    "\n",
    "from sklearn.linear_model import (\n",
    "    LinearRegression,\n",
    "    Ridge,\n",
    "    Lasso,\n",
    "    ElasticNet,\n",
    "    RANSACRegressor,\n",
    "    TheilSenRegressor,\n",
    "    HuberRegressor,\n",
    ")\n",
    "from sklearn.ensemble import (\n",
    "    RandomForestRegressor,\n",
    "    GradientBoostingRegressor,\n",
    "    AdaBoostRegressor,\n",
    "    ExtraTreesRegressor,\n",
    ")\n",
    "from sklearn.tree import DecisionTreeRegressor\n",
    "from sklearn.neighbors import KNeighborsRegressor\n",
    "from sklearn.neural_network import MLPRegressor\n",
    "from sklearn.svm import SVR, LinearSVR, NuSVR\n",
    "from sklearn.gaussian_process import GaussianProcessRegressor\n",
    "from sklearn.cross_decomposition import PLSRegression\n",
    "from sklearn.kernel_ridge import KernelRidge\n",
    "from sklearn.isotonic import IsotonicRegression\n",
    "from sklearn.ensemble import BaggingRegressor, VotingRegressor, StackingRegressor\n",
    "from xgboost import XGBRegressor\n",
    "from lightgbm import LGBMRegressor\n",
    "from catboost import CatBoostRegressor"
   ]
  },
  {
   "cell_type": "code",
   "execution_count": null,
   "metadata": {},
   "outputs": [],
   "source": [
    "df = load_data(\"data\")\n",
    "df = preprocess_data(df)\n",
    "# df = create_features(df)\n",
    "\n",
    "features, targets = split_features_targets(df)"
   ]
  },
  {
   "cell_type": "markdown",
   "metadata": {},
   "source": [
    "## Initial Testing\n"
   ]
  },
  {
   "cell_type": "markdown",
   "metadata": {},
   "source": [
    "### Models\n"
   ]
  },
  {
   "cell_type": "code",
   "execution_count": null,
   "metadata": {},
   "outputs": [],
   "source": [
    "models = [\n",
    "    LinearRegression(),\n",
    "    Ridge(),\n",
    "    Lasso(),\n",
    "    ElasticNet(),\n",
    "    RandomForestRegressor(n_estimators=100, max_depth=10, n_jobs=-1),\n",
    "    GradientBoostingRegressor(n_estimators=100, max_depth=5, learning_rate=0.1),\n",
    "    AdaBoostRegressor(n_estimators=50, learning_rate=0.1),\n",
    "    ExtraTreesRegressor(n_estimators=100, max_depth=10, n_jobs=-1),\n",
    "    DecisionTreeRegressor(max_depth=10),\n",
    "    KNeighborsRegressor(n_neighbors=5, n_jobs=-1),\n",
    "    MLPRegressor(hidden_layer_sizes=(100, 50), max_iter=500),\n",
    "    SVR(kernel=\"linear\", C=1.0, epsilon=0.1),\n",
    "    LinearSVR(C=1.0, epsilon=0.1, max_iter=1000, tol=1e-3),\n",
    "    NuSVR(kernel=\"linear\", C=1.0, nu=0.5),\n",
    "    GaussianProcessRegressor(n_restarts_optimizer=0, normalize_y=True),\n",
    "    PLSRegression(n_components=6),\n",
    "    KernelRidge(alpha=1.0, kernel=\"linear\"),\n",
    "    TheilSenRegressor(max_subpopulation=1e4, n_subsamples=None),\n",
    "    HuberRegressor(epsilon=1.35, max_iter=1000),\n",
    "    BaggingRegressor(n_estimators=10, max_samples=0.5, n_jobs=-1),\n",
    "    VotingRegressor(\n",
    "        estimators=[\n",
    "            (\"lr\", LinearRegression()),\n",
    "            (\"rf\", RandomForestRegressor(n_estimators=50, max_depth=5, n_jobs=-1)),\n",
    "            (\n",
    "                \"gbr\",\n",
    "                GradientBoostingRegressor(\n",
    "                    n_estimators=50, max_depth=3, learning_rate=0.1\n",
    "                ),\n",
    "            ),\n",
    "        ]\n",
    "    ),\n",
    "    StackingRegressor(\n",
    "        estimators=[\n",
    "            (\"lr\", LinearRegression()),\n",
    "            (\"rf\", RandomForestRegressor(n_estimators=50, max_depth=5, n_jobs=-1)),\n",
    "            (\n",
    "                \"gbr\",\n",
    "                GradientBoostingRegressor(\n",
    "                    n_estimators=50, max_depth=3, learning_rate=0.1\n",
    "                ),\n",
    "            ),\n",
    "        ]\n",
    "    ),\n",
    "    XGBRegressor(n_estimators=100, max_depth=5, learning_rate=0.1, n_jobs=-1),\n",
    "    LGBMRegressor(\n",
    "        n_estimators=100, max_depth=5, learning_rate=0.1, n_jobs=-1, verbose=-1\n",
    "    ),\n",
    "    CatBoostRegressor(\n",
    "        iterations=100, depth=5, learning_rate=0.1, thread_count=-1, verbose=0\n",
    "    ),\n",
    "]"
   ]
  },
  {
   "cell_type": "markdown",
   "metadata": {},
   "source": [
    "### Results\n"
   ]
  },
  {
   "cell_type": "code",
   "execution_count": null,
   "metadata": {},
   "outputs": [],
   "source": [
    "# Ice Thickness\n",
    "find_top_models(\n",
    "    test_independant_models(models, features, targets[\"ice_thickness\"], 10000, 0.2)\n",
    ").head()"
   ]
  },
  {
   "cell_type": "code",
   "execution_count": null,
   "metadata": {},
   "outputs": [],
   "source": [
    "# Ice Velocity\n",
    "find_top_models(\n",
    "    test_independant_models(models, features, targets[\"ice_velocity\"], 10000, 0.2)\n",
    ").head()"
   ]
  },
  {
   "cell_type": "code",
   "execution_count": null,
   "metadata": {},
   "outputs": [],
   "source": [
    "# Ice Mask\n",
    "find_top_models(\n",
    "    test_independant_models(models, features, targets[\"ice_mask\"], 10000, 0.2)\n",
    ").head()"
   ]
  },
  {
   "cell_type": "markdown",
   "metadata": {},
   "source": [
    "## Further Testing\n"
   ]
  },
  {
   "cell_type": "markdown",
   "metadata": {},
   "source": [
    "### Models\n"
   ]
  },
  {
   "cell_type": "code",
   "execution_count": null,
   "metadata": {},
   "outputs": [],
   "source": [
    "models = [\n",
    "    RandomForestRegressor(n_estimators=100, max_depth=10, n_jobs=-1),\n",
    "    GradientBoostingRegressor(n_estimators=100, max_depth=5, learning_rate=0.1),\n",
    "    ExtraTreesRegressor(n_estimators=100, max_depth=10, n_jobs=-1),\n",
    "    # SVR(kernel=\"linear\", C=1.0, epsilon=0.1),\n",
    "    # LinearSVR(C=1.0, epsilon=0.1, max_iter=1000, tol=1e-3),\n",
    "    # NuSVR(kernel=\"linear\", C=1.0, nu=0.5),\n",
    "    # GaussianProcessRegressor(n_restarts_optimizer=0, normalize_y=True),\n",
    "    BaggingRegressor(n_estimators=10, max_samples=0.5, n_jobs=-1),\n",
    "    XGBRegressor(n_estimators=100, max_depth=5, learning_rate=0.1, n_jobs=-1),\n",
    "    LGBMRegressor(\n",
    "        n_estimators=100, max_depth=5, learning_rate=0.1, n_jobs=-1, verbose=-1\n",
    "    ),\n",
    "]"
   ]
  },
  {
   "cell_type": "markdown",
   "metadata": {},
   "source": [
    "### Results\n"
   ]
  },
  {
   "cell_type": "code",
   "execution_count": null,
   "metadata": {},
   "outputs": [],
   "source": [
    "results = test_independant_models(models, features, targets[\"ice_velocity\"], 10000, 0.2)\n",
    "results.head(10)"
   ]
  }
 ],
 "metadata": {
  "kernelspec": {
   "display_name": "Python 3",
   "language": "python",
   "name": "python3"
  },
  "language_info": {
   "codemirror_mode": {
    "name": "ipython",
    "version": 3
   },
   "file_extension": ".py",
   "mimetype": "text/x-python",
   "name": "python",
   "nbconvert_exporter": "python",
   "pygments_lexer": "ipython3",
   "version": "3.11.7"
  }
 },
 "nbformat": 4,
 "nbformat_minor": 2
}
