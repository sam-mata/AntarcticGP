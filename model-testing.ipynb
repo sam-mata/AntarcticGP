{
 "cells": [
  {
   "cell_type": "markdown",
   "metadata": {},
   "source": [
    "# Model Testing\n"
   ]
  },
  {
   "cell_type": "markdown",
   "metadata": {},
   "source": [
    "## Setup\n"
   ]
  },
  {
   "cell_type": "code",
   "execution_count": 2,
   "metadata": {},
   "outputs": [],
   "source": [
    "from scripts.data_loader import load_data, split_features_targets\n",
    "from scripts.preprocessing import preprocess_data, derive_features\n",
    "from scripts.model_testing import test_independant_models, find_top_models\n",
    "\n",
    "from sklearn.linear_model import (\n",
    "    LinearRegression,\n",
    "    Ridge,\n",
    "    Lasso,\n",
    "    ElasticNet,\n",
    "    TheilSenRegressor,\n",
    "    HuberRegressor,\n",
    ")\n",
    "from sklearn.ensemble import (\n",
    "    RandomForestRegressor,\n",
    "    GradientBoostingRegressor,\n",
    "    AdaBoostRegressor,\n",
    "    ExtraTreesRegressor,\n",
    ")\n",
    "from sklearn.tree import DecisionTreeRegressor\n",
    "from sklearn.neighbors import KNeighborsRegressor\n",
    "from sklearn.neural_network import MLPRegressor\n",
    "from sklearn.svm import SVR, LinearSVR, NuSVR\n",
    "from sklearn.gaussian_process import GaussianProcessRegressor\n",
    "from sklearn.cross_decomposition import PLSRegression\n",
    "from sklearn.kernel_ridge import KernelRidge\n",
    "from sklearn.ensemble import BaggingRegressor, VotingRegressor, StackingRegressor\n",
    "from xgboost import XGBRegressor\n",
    "from lightgbm import LGBMRegressor"
   ]
  },
  {
   "cell_type": "code",
   "execution_count": 6,
   "metadata": {},
   "outputs": [],
   "source": [
    "df = load_data(\"data\")\n",
    "df = preprocess_data(df)\n",
    "df = derive_features(df)\n",
    "\n",
    "features, targets = split_features_targets(df)"
   ]
  },
  {
   "cell_type": "markdown",
   "metadata": {},
   "source": [
    "## Initial Testing\n"
   ]
  },
  {
   "cell_type": "markdown",
   "metadata": {},
   "source": [
    "### Models\n"
   ]
  },
  {
   "cell_type": "code",
   "execution_count": 7,
   "metadata": {},
   "outputs": [],
   "source": [
    "models = [\n",
    "    LinearRegression(),\n",
    "    Ridge(),\n",
    "    Lasso(),\n",
    "    ElasticNet(),\n",
    "    RandomForestRegressor(n_estimators=100, max_depth=10, n_jobs=-1),\n",
    "    GradientBoostingRegressor(n_estimators=100, max_depth=5, learning_rate=0.1),\n",
    "    AdaBoostRegressor(n_estimators=50, learning_rate=0.1),\n",
    "    ExtraTreesRegressor(n_estimators=100, max_depth=10, n_jobs=-1),\n",
    "    DecisionTreeRegressor(max_depth=10),\n",
    "    KNeighborsRegressor(n_neighbors=5, n_jobs=-1),\n",
    "    MLPRegressor(hidden_layer_sizes=(100, 50), max_iter=500),\n",
    "    SVR(kernel=\"linear\", C=1.0, epsilon=0.1),\n",
    "    LinearSVR(C=1.0, epsilon=0.1, max_iter=1000, tol=1e-3),\n",
    "    NuSVR(kernel=\"linear\", C=1.0, nu=0.5),\n",
    "    GaussianProcessRegressor(n_restarts_optimizer=0, normalize_y=True),\n",
    "    PLSRegression(n_components=6),\n",
    "    KernelRidge(alpha=1.0, kernel=\"linear\"),\n",
    "    TheilSenRegressor(max_subpopulation=1e4, n_subsamples=None),\n",
    "    HuberRegressor(epsilon=1.35, max_iter=1000),\n",
    "    BaggingRegressor(n_estimators=10, max_samples=0.5, n_jobs=-1),\n",
    "    VotingRegressor(\n",
    "        estimators=[\n",
    "            (\"lr\", LinearRegression()),\n",
    "            (\"rf\", RandomForestRegressor(n_estimators=50, max_depth=5, n_jobs=-1)),\n",
    "            (\n",
    "                \"gbr\",\n",
    "                GradientBoostingRegressor(\n",
    "                    n_estimators=50, max_depth=3, learning_rate=0.1\n",
    "                ),\n",
    "            ),\n",
    "        ]\n",
    "    ),\n",
    "    StackingRegressor(\n",
    "        estimators=[\n",
    "            (\"lr\", LinearRegression()),\n",
    "            (\"rf\", RandomForestRegressor(n_estimators=50, max_depth=5, n_jobs=-1)),\n",
    "            (\n",
    "                \"gbr\",\n",
    "                GradientBoostingRegressor(\n",
    "                    n_estimators=50, max_depth=3, learning_rate=0.1\n",
    "                ),\n",
    "            ),\n",
    "        ]\n",
    "    ),\n",
    "    XGBRegressor(n_estimators=100, max_depth=5, learning_rate=0.1, n_jobs=-1),\n",
    "    LGBMRegressor(\n",
    "        n_estimators=100, max_depth=5, learning_rate=0.1, n_jobs=-1, verbose=-1\n",
    "    ),\n",
    "]"
   ]
  },
  {
   "cell_type": "markdown",
   "metadata": {},
   "source": [
    "### Results\n"
   ]
  },
  {
   "cell_type": "code",
   "execution_count": 8,
   "metadata": {},
   "outputs": [
    {
     "name": "stderr",
     "output_type": "stream",
     "text": [
      "C:\\Users\\samma\\AppData\\Roaming\\Python\\Python312\\site-packages\\sklearn\\svm\\_base.py:1235: ConvergenceWarning: Liblinear failed to converge, increase the number of iterations.\n",
      "  warnings.warn(\n"
     ]
    },
    {
     "data": {
      "text/html": [
       "<div>\n",
       "<style scoped>\n",
       "    .dataframe tbody tr th:only-of-type {\n",
       "        vertical-align: middle;\n",
       "    }\n",
       "\n",
       "    .dataframe tbody tr th {\n",
       "        vertical-align: top;\n",
       "    }\n",
       "\n",
       "    .dataframe thead th {\n",
       "        text-align: right;\n",
       "    }\n",
       "</style>\n",
       "<table border=\"1\" class=\"dataframe\">\n",
       "  <thead>\n",
       "    <tr style=\"text-align: right;\">\n",
       "      <th></th>\n",
       "      <th>MSE</th>\n",
       "      <th>MAE</th>\n",
       "      <th>R2</th>\n",
       "    </tr>\n",
       "  </thead>\n",
       "  <tbody>\n",
       "    <tr>\n",
       "      <th>RandomForestRegressor</th>\n",
       "      <td>0.001555</td>\n",
       "      <td>0.018336</td>\n",
       "      <td>0.975696</td>\n",
       "    </tr>\n",
       "    <tr>\n",
       "      <th>BaggingRegressor</th>\n",
       "      <td>0.001679</td>\n",
       "      <td>0.018907</td>\n",
       "      <td>0.973760</td>\n",
       "    </tr>\n",
       "    <tr>\n",
       "      <th>XGBRegressor</th>\n",
       "      <td>0.001831</td>\n",
       "      <td>0.021306</td>\n",
       "      <td>0.971394</td>\n",
       "    </tr>\n",
       "    <tr>\n",
       "      <th>GradientBoostingRegressor</th>\n",
       "      <td>0.001977</td>\n",
       "      <td>0.022163</td>\n",
       "      <td>0.969099</td>\n",
       "    </tr>\n",
       "    <tr>\n",
       "      <th>LGBMRegressor</th>\n",
       "      <td>0.002043</td>\n",
       "      <td>0.022519</td>\n",
       "      <td>0.968076</td>\n",
       "    </tr>\n",
       "  </tbody>\n",
       "</table>\n",
       "</div>"
      ],
      "text/plain": [
       "                                MSE       MAE        R2\n",
       "RandomForestRegressor      0.001555  0.018336  0.975696\n",
       "BaggingRegressor           0.001679  0.018907  0.973760\n",
       "XGBRegressor               0.001831  0.021306  0.971394\n",
       "GradientBoostingRegressor  0.001977  0.022163  0.969099\n",
       "LGBMRegressor              0.002043  0.022519  0.968076"
      ]
     },
     "execution_count": 8,
     "metadata": {},
     "output_type": "execute_result"
    }
   ],
   "source": [
    "# Ice Thickness\n",
    "find_top_models(test_independant_models(models, features, targets[\"ice_thickness\"])).head()"
   ]
  },
  {
   "cell_type": "code",
   "execution_count": 9,
   "metadata": {},
   "outputs": [
    {
     "name": "stderr",
     "output_type": "stream",
     "text": [
      "C:\\Users\\samma\\AppData\\Roaming\\Python\\Python312\\site-packages\\sklearn\\svm\\_base.py:1235: ConvergenceWarning: Liblinear failed to converge, increase the number of iterations.\n",
      "  warnings.warn(\n"
     ]
    },
    {
     "data": {
      "text/html": [
       "<div>\n",
       "<style scoped>\n",
       "    .dataframe tbody tr th:only-of-type {\n",
       "        vertical-align: middle;\n",
       "    }\n",
       "\n",
       "    .dataframe tbody tr th {\n",
       "        vertical-align: top;\n",
       "    }\n",
       "\n",
       "    .dataframe thead th {\n",
       "        text-align: right;\n",
       "    }\n",
       "</style>\n",
       "<table border=\"1\" class=\"dataframe\">\n",
       "  <thead>\n",
       "    <tr style=\"text-align: right;\">\n",
       "      <th></th>\n",
       "      <th>MSE</th>\n",
       "      <th>MAE</th>\n",
       "      <th>R2</th>\n",
       "    </tr>\n",
       "  </thead>\n",
       "  <tbody>\n",
       "    <tr>\n",
       "      <th>ExtraTreesRegressor</th>\n",
       "      <td>582.162817</td>\n",
       "      <td>4.937941</td>\n",
       "      <td>0.531329</td>\n",
       "    </tr>\n",
       "    <tr>\n",
       "      <th>GradientBoostingRegressor</th>\n",
       "      <td>683.360187</td>\n",
       "      <td>5.368325</td>\n",
       "      <td>0.449860</td>\n",
       "    </tr>\n",
       "    <tr>\n",
       "      <th>XGBRegressor</th>\n",
       "      <td>688.134789</td>\n",
       "      <td>5.169892</td>\n",
       "      <td>0.446016</td>\n",
       "    </tr>\n",
       "    <tr>\n",
       "      <th>RandomForestRegressor</th>\n",
       "      <td>721.380434</td>\n",
       "      <td>5.117349</td>\n",
       "      <td>0.419252</td>\n",
       "    </tr>\n",
       "    <tr>\n",
       "      <th>LGBMRegressor</th>\n",
       "      <td>732.271686</td>\n",
       "      <td>6.156113</td>\n",
       "      <td>0.410484</td>\n",
       "    </tr>\n",
       "  </tbody>\n",
       "</table>\n",
       "</div>"
      ],
      "text/plain": [
       "                                  MSE       MAE        R2\n",
       "ExtraTreesRegressor        582.162817  4.937941  0.531329\n",
       "GradientBoostingRegressor  683.360187  5.368325  0.449860\n",
       "XGBRegressor               688.134789  5.169892  0.446016\n",
       "RandomForestRegressor      721.380434  5.117349  0.419252\n",
       "LGBMRegressor              732.271686  6.156113  0.410484"
      ]
     },
     "execution_count": 9,
     "metadata": {},
     "output_type": "execute_result"
    }
   ],
   "source": [
    "# Ice Velocity\n",
    "find_top_models(test_independant_models(models, features, targets[\"ice_velocity\"])).head()"
   ]
  },
  {
   "cell_type": "code",
   "execution_count": 10,
   "metadata": {},
   "outputs": [
    {
     "name": "stderr",
     "output_type": "stream",
     "text": [
      "C:\\Users\\samma\\AppData\\Roaming\\Python\\Python312\\site-packages\\sklearn\\svm\\_base.py:1235: ConvergenceWarning: Liblinear failed to converge, increase the number of iterations.\n",
      "  warnings.warn(\n"
     ]
    },
    {
     "data": {
      "text/html": [
       "<div>\n",
       "<style scoped>\n",
       "    .dataframe tbody tr th:only-of-type {\n",
       "        vertical-align: middle;\n",
       "    }\n",
       "\n",
       "    .dataframe tbody tr th {\n",
       "        vertical-align: top;\n",
       "    }\n",
       "\n",
       "    .dataframe thead th {\n",
       "        text-align: right;\n",
       "    }\n",
       "</style>\n",
       "<table border=\"1\" class=\"dataframe\">\n",
       "  <thead>\n",
       "    <tr style=\"text-align: right;\">\n",
       "      <th></th>\n",
       "      <th>MSE</th>\n",
       "      <th>MAE</th>\n",
       "      <th>R2</th>\n",
       "    </tr>\n",
       "  </thead>\n",
       "  <tbody>\n",
       "    <tr>\n",
       "      <th>ExtraTreesRegressor</th>\n",
       "      <td>0.010069</td>\n",
       "      <td>0.024479</td>\n",
       "      <td>0.989347</td>\n",
       "    </tr>\n",
       "    <tr>\n",
       "      <th>XGBRegressor</th>\n",
       "      <td>0.012172</td>\n",
       "      <td>0.028409</td>\n",
       "      <td>0.987122</td>\n",
       "    </tr>\n",
       "    <tr>\n",
       "      <th>RandomForestRegressor</th>\n",
       "      <td>0.012231</td>\n",
       "      <td>0.023246</td>\n",
       "      <td>0.987060</td>\n",
       "    </tr>\n",
       "    <tr>\n",
       "      <th>GradientBoostingRegressor</th>\n",
       "      <td>0.013348</td>\n",
       "      <td>0.030836</td>\n",
       "      <td>0.985878</td>\n",
       "    </tr>\n",
       "    <tr>\n",
       "      <th>LGBMRegressor</th>\n",
       "      <td>0.013500</td>\n",
       "      <td>0.034609</td>\n",
       "      <td>0.985717</td>\n",
       "    </tr>\n",
       "  </tbody>\n",
       "</table>\n",
       "</div>"
      ],
      "text/plain": [
       "                                MSE       MAE        R2\n",
       "ExtraTreesRegressor        0.010069  0.024479  0.989347\n",
       "XGBRegressor               0.012172  0.028409  0.987122\n",
       "RandomForestRegressor      0.012231  0.023246  0.987060\n",
       "GradientBoostingRegressor  0.013348  0.030836  0.985878\n",
       "LGBMRegressor              0.013500  0.034609  0.985717"
      ]
     },
     "execution_count": 10,
     "metadata": {},
     "output_type": "execute_result"
    }
   ],
   "source": [
    "# Ice Mask\n",
    "find_top_models(test_independant_models(models, features, targets[\"ice_mask\"])).head()"
   ]
  },
  {
   "cell_type": "markdown",
   "metadata": {},
   "source": [
    "## Further Testing\n"
   ]
  },
  {
   "cell_type": "markdown",
   "metadata": {},
   "source": [
    "### Models\n"
   ]
  },
  {
   "cell_type": "code",
   "execution_count": 11,
   "metadata": {},
   "outputs": [],
   "source": [
    "MAX_DEPTH = 50\n",
    "N_ESTIMATORS = 150\n",
    "N_JOBS = -1\n",
    "\n",
    "models = [\n",
    "    RandomForestRegressor(n_estimators=N_ESTIMATORS, max_depth=MAX_DEPTH, n_jobs=N_JOBS),\n",
    "    GradientBoostingRegressor(n_estimators=N_ESTIMATORS, max_depth=MAX_DEPTH, learning_rate=0.1),\n",
    "    ExtraTreesRegressor(n_estimators=N_ESTIMATORS, max_depth=MAX_DEPTH, n_jobs=N_JOBS),\n",
    "    BaggingRegressor(n_estimators=N_ESTIMATORS, max_samples=0.5, n_jobs=N_JOBS),\n",
    "    XGBRegressor(n_estimators=N_ESTIMATORS, max_depth=MAX_DEPTH, learning_rate=0.1, n_jobs=N_JOBS),\n",
    "    LGBMRegressor(\n",
    "        n_estimators=N_ESTIMATORS, max_depth=MAX_DEPTH, learning_rate=0.1, n_jobs=N_JOBS, verbose=-1\n",
    "    ),\n",
    "]"
   ]
  },
  {
   "cell_type": "markdown",
   "metadata": {},
   "source": [
    "### Results\n"
   ]
  },
  {
   "cell_type": "code",
   "execution_count": 12,
   "metadata": {},
   "outputs": [
    {
     "data": {
      "text/html": [
       "<div>\n",
       "<style scoped>\n",
       "    .dataframe tbody tr th:only-of-type {\n",
       "        vertical-align: middle;\n",
       "    }\n",
       "\n",
       "    .dataframe tbody tr th {\n",
       "        vertical-align: top;\n",
       "    }\n",
       "\n",
       "    .dataframe thead th {\n",
       "        text-align: right;\n",
       "    }\n",
       "</style>\n",
       "<table border=\"1\" class=\"dataframe\">\n",
       "  <thead>\n",
       "    <tr style=\"text-align: right;\">\n",
       "      <th></th>\n",
       "      <th>MSE</th>\n",
       "      <th>MAE</th>\n",
       "      <th>R2</th>\n",
       "    </tr>\n",
       "  </thead>\n",
       "  <tbody>\n",
       "    <tr>\n",
       "      <th>XGBRegressor</th>\n",
       "      <td>249.364635</td>\n",
       "      <td>1.127016</td>\n",
       "      <td>0.799249</td>\n",
       "    </tr>\n",
       "    <tr>\n",
       "      <th>ExtraTreesRegressor</th>\n",
       "      <td>260.218680</td>\n",
       "      <td>1.199475</td>\n",
       "      <td>0.790511</td>\n",
       "    </tr>\n",
       "    <tr>\n",
       "      <th>RandomForestRegressor</th>\n",
       "      <td>281.443833</td>\n",
       "      <td>1.318280</td>\n",
       "      <td>0.773423</td>\n",
       "    </tr>\n",
       "    <tr>\n",
       "      <th>BaggingRegressor</th>\n",
       "      <td>295.442356</td>\n",
       "      <td>1.524335</td>\n",
       "      <td>0.762154</td>\n",
       "    </tr>\n",
       "    <tr>\n",
       "      <th>LGBMRegressor</th>\n",
       "      <td>312.035757</td>\n",
       "      <td>2.860903</td>\n",
       "      <td>0.748795</td>\n",
       "    </tr>\n",
       "    <tr>\n",
       "      <th>GradientBoostingRegressor</th>\n",
       "      <td>348.397428</td>\n",
       "      <td>1.262824</td>\n",
       "      <td>0.719522</td>\n",
       "    </tr>\n",
       "  </tbody>\n",
       "</table>\n",
       "</div>"
      ],
      "text/plain": [
       "                                  MSE       MAE        R2\n",
       "XGBRegressor               249.364635  1.127016  0.799249\n",
       "ExtraTreesRegressor        260.218680  1.199475  0.790511\n",
       "RandomForestRegressor      281.443833  1.318280  0.773423\n",
       "BaggingRegressor           295.442356  1.524335  0.762154\n",
       "LGBMRegressor              312.035757  2.860903  0.748795\n",
       "GradientBoostingRegressor  348.397428  1.262824  0.719522"
      ]
     },
     "execution_count": 12,
     "metadata": {},
     "output_type": "execute_result"
    }
   ],
   "source": [
    "results = test_independant_models(models, features, targets[\"ice_velocity\"], test_split=0.2, subset=False)\n",
    "results.head(6)"
   ]
  }
 ],
 "metadata": {
  "kernelspec": {
   "display_name": "Python 3",
   "language": "python",
   "name": "python3"
  },
  "language_info": {
   "codemirror_mode": {
    "name": "ipython",
    "version": 3
   },
   "file_extension": ".py",
   "mimetype": "text/x-python",
   "name": "python",
   "nbconvert_exporter": "python",
   "pygments_lexer": "ipython3",
   "version": "3.12.4"
  }
 },
 "nbformat": 4,
 "nbformat_minor": 2
}
