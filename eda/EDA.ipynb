{
 "cells": [
  {
   "cell_type": "markdown",
   "metadata": {},
   "source": [
    "# Exploratory Data Analysis\n"
   ]
  },
  {
   "cell_type": "markdown",
   "metadata": {},
   "source": [
    "## 0. Setup\n"
   ]
  },
  {
   "cell_type": "code",
   "execution_count": 9,
   "metadata": {},
   "outputs": [
    {
     "name": "stdout",
     "output_type": "stream",
     "text": [
      "         x        y  ice_thickness  ice_velocity  ice_mask  precipitation  \\\n",
      "0 -3040000  3040000            0.0           NaN       4.0     729.484314   \n",
      "1 -2918400  3040000            0.0           NaN       4.0     694.645996   \n",
      "2 -2796800  3040000            0.0           NaN       4.0     691.841736   \n",
      "3 -2675200  3040000            0.0           NaN       4.0     679.350647   \n",
      "4 -2553600  3040000            0.0           NaN       4.0     659.845520   \n",
      "\n",
      "   air_temperature  ocean_temperature  year  \n",
      "0       292.419525       9.969210e+36  2015  \n",
      "1       273.800354       9.969210e+36  2015  \n",
      "2       273.366791       9.969210e+36  2015  \n",
      "3       272.888672       9.969210e+36  2015  \n",
      "4       272.373596       9.969210e+36  2015  \n"
     ]
    }
   ],
   "source": [
    "import pandas as pd\n",
    "import os\n",
    "\n",
    "# Define the column names\n",
    "features = [\n",
    "    \"x\",\n",
    "    \"y\",\n",
    "    \"ice_thickness\",\n",
    "    \"ice_velocity\",\n",
    "    \"ice_mask\",\n",
    "    \"precipitation\",\n",
    "    \"air_temperature\",\n",
    "    \"ocean_temperature\",\n",
    "]\n",
    "\n",
    "# Initialize an empty list to store DataFrames\n",
    "dfs = []\n",
    "\n",
    "# Iterate over the years and load each file into a DataFrame\n",
    "for year in range(2015, 2101):\n",
    "    file_path = f\"../data/vars-{year}.txt\"\n",
    "    if os.path.exists(file_path):\n",
    "        df = pd.read_csv(file_path, sep=\"\\t\", header=None, names=features)\n",
    "        df[\"year\"] = year\n",
    "        dfs.append(df)\n",
    "\n",
    "data = pd.concat(dfs, ignore_index=True)\n",
    "print(data.head())"
   ]
  },
  {
   "cell_type": "markdown",
   "metadata": {},
   "source": [
    "## 1. Feature Space\n"
   ]
  },
  {
   "cell_type": "markdown",
   "metadata": {},
   "source": [
    "### 1.1 Univariate Analysis\n"
   ]
  },
  {
   "cell_type": "markdown",
   "metadata": {},
   "source": [
    "### 1.2 Spatial Representations\n"
   ]
  },
  {
   "cell_type": "markdown",
   "metadata": {},
   "source": [
    "### 1.3 Temporal Representations\n"
   ]
  },
  {
   "cell_type": "markdown",
   "metadata": {},
   "source": [
    "## 2. Correlation Analysis\n"
   ]
  },
  {
   "cell_type": "markdown",
   "metadata": {},
   "source": [
    "### 2.1 Bivariate Analysis _(Inter-Feature)_\n"
   ]
  },
  {
   "cell_type": "markdown",
   "metadata": {},
   "source": [
    "### 2.2 Bivariate Analysis _(Feature-Output)_\n"
   ]
  },
  {
   "cell_type": "markdown",
   "metadata": {},
   "source": [
    "## 3. Feature Engineering\n"
   ]
  },
  {
   "cell_type": "markdown",
   "metadata": {},
   "source": [
    "### 3.2 Feature Creation\n"
   ]
  },
  {
   "cell_type": "markdown",
   "metadata": {},
   "source": [
    "### 3.3 Feature Analysis\n"
   ]
  },
  {
   "cell_type": "markdown",
   "metadata": {},
   "source": [
    "### 3.4 Correlation Analysis\n"
   ]
  },
  {
   "cell_type": "markdown",
   "metadata": {},
   "source": [
    "## 4. Stratification & Sampling\n"
   ]
  },
  {
   "cell_type": "markdown",
   "metadata": {},
   "source": [
    "## 5. Summary\n"
   ]
  }
 ],
 "metadata": {
  "kernelspec": {
   "display_name": "Python 3",
   "language": "python",
   "name": "python3"
  },
  "language_info": {
   "codemirror_mode": {
    "name": "ipython",
    "version": 3
   },
   "file_extension": ".py",
   "mimetype": "text/x-python",
   "name": "python",
   "nbconvert_exporter": "python",
   "pygments_lexer": "ipython3",
   "version": "3.11.7"
  }
 },
 "nbformat": 4,
 "nbformat_minor": 2
}
