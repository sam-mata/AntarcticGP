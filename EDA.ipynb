{
 "cells": [
  {
   "cell_type": "markdown",
   "metadata": {},
   "source": [
    "# Exploratory Data Analysis\n"
   ]
  },
  {
   "cell_type": "markdown",
   "metadata": {},
   "source": [
    "## 0. Setup\n"
   ]
  },
  {
   "cell_type": "code",
   "execution_count": 5,
   "metadata": {},
   "outputs": [
    {
     "name": "stdout",
     "output_type": "stream",
     "text": [
      "📝 Features: \n",
      "          x        y  precipitation  air_temperature  ocean_temperature  year\n",
      "0 -3040000  3040000     729.484314       292.419525       9.969210e+36  2015\n",
      "1 -2918400  3040000     694.645996       273.800354       9.969210e+36  2015\n",
      "2 -2796800  3040000     691.841736       273.366791       9.969210e+36  2015\n",
      "3 -2675200  3040000     679.350647       272.888672       9.969210e+36  2015\n",
      "4 -2553600  3040000     659.845520       272.373596       9.969210e+36  2015\n",
      "\n",
      "🎯 Targets: \n",
      "    ice_thickness  ice_velocity  ice_mask\n",
      "0            0.0           NaN       4.0\n",
      "1            0.0           NaN       4.0\n",
      "2            0.0           NaN       4.0\n",
      "3            0.0           NaN       4.0\n",
      "4            0.0           NaN       4.0\n"
     ]
    }
   ],
   "source": [
    "from scripts.data_loader import load_data, split_features_targets\n",
    "\n",
    "# Load data into DataFrames.\n",
    "data = load_data(\"data\")\n",
    "features, targets = split_features_targets(data)\n",
    "print(f\"📝 Features: \\n {features.head()}\\n\")\n",
    "print(f\"🎯 Targets: \\n {targets.head()}\")"
   ]
  },
  {
   "cell_type": "markdown",
   "metadata": {},
   "source": [
    "## 1. Feature Space\n"
   ]
  },
  {
   "cell_type": "markdown",
   "metadata": {},
   "source": [
    "### 1.1 Univariate Analysis\n"
   ]
  },
  {
   "cell_type": "code",
   "execution_count": null,
   "metadata": {},
   "outputs": [],
   "source": []
  },
  {
   "cell_type": "markdown",
   "metadata": {},
   "source": [
    "### 1.2 Spatial Representations\n"
   ]
  },
  {
   "cell_type": "markdown",
   "metadata": {},
   "source": [
    "### 1.3 Temporal Representations\n"
   ]
  },
  {
   "cell_type": "markdown",
   "metadata": {},
   "source": [
    "## 2. Correlation Analysis\n"
   ]
  },
  {
   "cell_type": "markdown",
   "metadata": {},
   "source": [
    "### 2.1 Bivariate Analysis _(Inter-Feature)_\n"
   ]
  },
  {
   "cell_type": "markdown",
   "metadata": {},
   "source": [
    "### 2.2 Bivariate Analysis _(Feature-Output)_\n"
   ]
  },
  {
   "cell_type": "markdown",
   "metadata": {},
   "source": [
    "## 3. Feature Engineering\n"
   ]
  },
  {
   "cell_type": "markdown",
   "metadata": {},
   "source": [
    "### 3.2 Feature Creation\n"
   ]
  },
  {
   "cell_type": "markdown",
   "metadata": {},
   "source": [
    "### 3.3 Feature Analysis\n"
   ]
  },
  {
   "cell_type": "markdown",
   "metadata": {},
   "source": [
    "### 3.4 Correlation Analysis\n"
   ]
  },
  {
   "cell_type": "markdown",
   "metadata": {},
   "source": [
    "## 4. Stratification & Sampling\n"
   ]
  },
  {
   "cell_type": "markdown",
   "metadata": {},
   "source": [
    "## 5. Summary\n"
   ]
  }
 ],
 "metadata": {
  "kernelspec": {
   "display_name": "Python 3",
   "language": "python",
   "name": "python3"
  },
  "language_info": {
   "codemirror_mode": {
    "name": "ipython",
    "version": 3
   },
   "file_extension": ".py",
   "mimetype": "text/x-python",
   "name": "python",
   "nbconvert_exporter": "python",
   "pygments_lexer": "ipython3",
   "version": "3.11.7"
  }
 },
 "nbformat": 4,
 "nbformat_minor": 2
}
