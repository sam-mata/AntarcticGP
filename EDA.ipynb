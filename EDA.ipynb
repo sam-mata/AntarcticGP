{
 "cells": [
  {
   "cell_type": "markdown",
   "metadata": {},
   "source": [
    "# Exploratory Data Analysis\n"
   ]
  },
  {
   "cell_type": "markdown",
   "metadata": {},
   "source": [
    "## 0. Setup\n"
   ]
  },
  {
   "cell_type": "code",
   "execution_count": 10,
   "metadata": {},
   "outputs": [
    {
     "name": "stdout",
     "output_type": "stream",
     "text": [
      "📝 Features: \n",
      "          x        y  precipitation  air_temperature  ocean_temperature  year\n",
      "0 -3040000  3040000     729.484314       292.419525       9.969210e+36  2015\n",
      "1 -2918400  3040000     694.645996       273.800354       9.969210e+36  2015\n",
      "2 -2796800  3040000     691.841736       273.366791       9.969210e+36  2015\n",
      "3 -2675200  3040000     679.350647       272.888672       9.969210e+36  2015\n",
      "4 -2553600  3040000     659.845520       272.373596       9.969210e+36  2015\n",
      "\n",
      "🎯 Targets: \n",
      "    ice_thickness  ice_velocity  ice_mask\n",
      "0            0.0           NaN       4.0\n",
      "1            0.0           NaN       4.0\n",
      "2            0.0           NaN       4.0\n",
      "3            0.0           NaN       4.0\n",
      "4            0.0           NaN       4.0\n"
     ]
    }
   ],
   "source": [
    "import pandas as pd\n",
    "from scripts.data_loader import load_data, split_features_targets\n",
    "from scripts.preprocessor import remove_fillers\n",
    "\n",
    "# Load data into DataFrames.\n",
    "data = load_data(\"data\")\n",
    "cleaned_data = remove_fillers(data)\n",
    "features, targets = split_features_targets(cleaned_data)\n",
    "print(f\"📝 Features: \\n {features.head()}\\n\")\n",
    "print(f\"🎯 Targets: \\n {targets.head()}\")"
   ]
  },
  {
   "cell_type": "markdown",
   "metadata": {},
   "source": [
    "## 1. Feature Space\n"
   ]
  },
  {
   "cell_type": "markdown",
   "metadata": {},
   "source": [
    "### 1.1 Dataset Analysis\n"
   ]
  },
  {
   "cell_type": "code",
   "execution_count": 9,
   "metadata": {},
   "outputs": [],
   "source": [
    "# Plot distribution of NaN values."
   ]
  },
  {
   "cell_type": "markdown",
   "metadata": {},
   "source": [
    "### 1.2 Univariate Analysis\n"
   ]
  },
  {
   "cell_type": "code",
   "execution_count": 6,
   "metadata": {},
   "outputs": [
    {
     "name": "stdout",
     "output_type": "stream",
     "text": [
      "x:\n",
      "count     223686.00\n",
      "mean           0.00\n",
      "std      1789907.54\n",
      "min     -3040000.00\n",
      "25%     -1580800.00\n",
      "50%            0.00\n",
      "75%      1580800.00\n",
      "max      3040000.00\n",
      "Name: x, dtype: float64 NaN values\n",
      "y:\n",
      "count     223686.00\n",
      "mean           0.00\n",
      "std      1789907.54\n",
      "min     -3040000.00\n",
      "25%     -1580800.00\n",
      "50%            0.00\n",
      "75%      1580800.00\n",
      "max      3040000.00\n",
      "Name: y, dtype: float64 NaN values\n",
      "precipitation:\n",
      "count   223686.00\n",
      "mean       575.61\n",
      "std        364.76\n",
      "min       -522.47\n",
      "25%        204.15\n",
      "50%        638.85\n",
      "75%        871.18\n",
      "max       2459.46\n",
      "Name: precipitation, dtype: float64 NaN values\n",
      "air_temperature:\n",
      "count   223686.00\n",
      "mean       258.14\n",
      "std         16.93\n",
      "min        214.14\n",
      "25%        245.16\n",
      "50%        265.52\n",
      "75%        271.24\n",
      "max        297.43\n",
      "Name: air_temperature, dtype: float64 NaN values\n",
      "ocean_temperature:\n",
      "count                                   223686.00\n",
      "mean     1319967861273910518050670440219672576.00\n",
      "std      3381146224509364177858467901690871808.00\n",
      "min                                        271.19\n",
      "25%                                        272.40\n",
      "50%                                        273.09\n",
      "75%                                        274.39\n",
      "max     10447732224300000166186535277763231744.00\n",
      "Name: ocean_temperature, dtype: float64 NaN values\n",
      "year:\n",
      "count   223686.00\n",
      "mean      2057.50\n",
      "std         24.82\n",
      "min       2015.00\n",
      "25%       2036.00\n",
      "50%       2057.50\n",
      "75%       2079.00\n",
      "max       2100.00\n",
      "Name: year, dtype: float64 NaN values\n"
     ]
    }
   ],
   "source": [
    "for feature in features.columns:\n",
    "\n",
    "    print(f\"{feature}:\\n{features[feature].describe()} NaN values\")"
   ]
  },
  {
   "cell_type": "markdown",
   "metadata": {},
   "source": [
    "### 1.3 Spatial Representations\n"
   ]
  },
  {
   "cell_type": "code",
   "execution_count": null,
   "metadata": {},
   "outputs": [],
   "source": []
  },
  {
   "cell_type": "markdown",
   "metadata": {},
   "source": [
    "### 1.4 Temporal Representations\n"
   ]
  },
  {
   "cell_type": "code",
   "execution_count": null,
   "metadata": {},
   "outputs": [],
   "source": []
  },
  {
   "cell_type": "markdown",
   "metadata": {},
   "source": [
    "## 2. Correlation Analysis\n"
   ]
  },
  {
   "cell_type": "markdown",
   "metadata": {},
   "source": [
    "### 2.1 Bivariate Analysis _(Inter-Feature)_\n"
   ]
  },
  {
   "cell_type": "code",
   "execution_count": null,
   "metadata": {},
   "outputs": [],
   "source": []
  },
  {
   "cell_type": "markdown",
   "metadata": {},
   "source": [
    "### 2.2 Bivariate Analysis _(Feature-Output)_\n"
   ]
  },
  {
   "cell_type": "code",
   "execution_count": null,
   "metadata": {},
   "outputs": [],
   "source": []
  },
  {
   "cell_type": "markdown",
   "metadata": {},
   "source": [
    "## 3. Feature Engineering\n"
   ]
  },
  {
   "cell_type": "markdown",
   "metadata": {},
   "source": [
    "### 3.2 Feature Creation\n"
   ]
  },
  {
   "cell_type": "code",
   "execution_count": null,
   "metadata": {},
   "outputs": [],
   "source": []
  },
  {
   "cell_type": "markdown",
   "metadata": {},
   "source": [
    "### 3.3 Feature Analysis\n"
   ]
  },
  {
   "cell_type": "code",
   "execution_count": null,
   "metadata": {},
   "outputs": [],
   "source": []
  },
  {
   "cell_type": "markdown",
   "metadata": {},
   "source": [
    "### 3.4 Correlation Analysis\n"
   ]
  },
  {
   "cell_type": "code",
   "execution_count": null,
   "metadata": {},
   "outputs": [],
   "source": []
  },
  {
   "cell_type": "markdown",
   "metadata": {},
   "source": [
    "## 4. Stratification & Sampling\n"
   ]
  },
  {
   "cell_type": "markdown",
   "metadata": {},
   "source": [
    "## 5. Summary\n"
   ]
  }
 ],
 "metadata": {
  "kernelspec": {
   "display_name": "Python 3",
   "language": "python",
   "name": "python3"
  },
  "language_info": {
   "codemirror_mode": {
    "name": "ipython",
    "version": 3
   },
   "file_extension": ".py",
   "mimetype": "text/x-python",
   "name": "python",
   "nbconvert_exporter": "python",
   "pygments_lexer": "ipython3",
   "version": "3.11.7"
  }
 },
 "nbformat": 4,
 "nbformat_minor": 2
}
